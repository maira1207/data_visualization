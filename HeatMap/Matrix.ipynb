{
  "nbformat": 4,
  "nbformat_minor": 0,
  "metadata": {
    "colab": {
      "name": "Matrix.ipynb",
      "provenance": []
    },
    "kernelspec": {
      "name": "python3",
      "display_name": "Python 3"
    }
  },
  "cells": [
    {
      "cell_type": "code",
      "metadata": {
        "id": "bAXe13fDd-zJ"
      },
      "source": [
        "import string\n",
        "import nltk\n",
        "from nltk.tokenize import RegexpTokenizer\n",
        "from nltk.corpus import stopwords\n",
        "import re\n",
        "import numpy as np\n",
        "import pandas as pd\n",
        "from nltk.tokenize import word_tokenize, sent_tokenize\n",
        "from nltk.corpus import stopwords\n",
        "from string import punctuation\n",
        "from nltk.stem.porter import *\n",
        "from nltk.stem import WordNetLemmatizer"
      ],
      "execution_count": null,
      "outputs": []
    },
    {
      "cell_type": "code",
      "metadata": {
        "colab": {
          "base_uri": "https://localhost:8080/"
        },
        "id": "kA9qAm9aetjK",
        "outputId": "4fe945f0-92d7-4a31-fdd7-f0a6ae9f60ac"
      },
      "source": [
        "nltk.download('brown')"
      ],
      "execution_count": null,
      "outputs": [
        {
          "output_type": "stream",
          "text": [
            "[nltk_data] Downloading package brown to /root/nltk_data...\n",
            "[nltk_data]   Package brown is already up-to-date!\n"
          ],
          "name": "stdout"
        },
        {
          "output_type": "execute_result",
          "data": {
            "text/plain": [
              "True"
            ]
          },
          "metadata": {
            "tags": []
          },
          "execution_count": 4
        }
      ]
    },
    {
      "cell_type": "code",
      "metadata": {
        "colab": {
          "base_uri": "https://localhost:8080/"
        },
        "id": "0KdGpynnfdGF",
        "outputId": "ded396e4-11ea-4b53-8927-db2d1061d1a6"
      },
      "source": [
        "from nltk.corpus import brown\n",
        "brown.categories()"
      ],
      "execution_count": null,
      "outputs": [
        {
          "output_type": "execute_result",
          "data": {
            "text/plain": [
              "['adventure',\n",
              " 'belles_lettres',\n",
              " 'editorial',\n",
              " 'fiction',\n",
              " 'government',\n",
              " 'hobbies',\n",
              " 'humor',\n",
              " 'learned',\n",
              " 'lore',\n",
              " 'mystery',\n",
              " 'news',\n",
              " 'religion',\n",
              " 'reviews',\n",
              " 'romance',\n",
              " 'science_fiction']"
            ]
          },
          "metadata": {
            "tags": []
          },
          "execution_count": 5
        }
      ]
    },
    {
      "cell_type": "code",
      "metadata": {
        "colab": {
          "base_uri": "https://localhost:8080/"
        },
        "id": "zwzxXlf4wiGN",
        "outputId": "42f89930-f73a-4569-de90-b7b9b6e9d187"
      },
      "source": [
        "government_sents = brown.sents(categories='government')\n",
        "print(government_sents[:5])"
      ],
      "execution_count": null,
      "outputs": [
        {
          "output_type": "stream",
          "text": [
            "[['The', 'Office', 'of', 'Business', 'Economics', '(', 'OBE', ')', 'of', 'the', 'U.S.', 'Department', 'of', 'Commerce', 'provides', 'basic', 'measures', 'of', 'the', 'national', 'economy', 'and', 'current', 'analysis', 'of', 'short-run', 'changes', 'in', 'the', 'economic', 'situation', 'and', 'business', 'outlook', '.'], ['It', 'develops', 'and', 'analyzes', 'the', 'national', 'income', ',', 'balance', 'of', 'international', 'payments', ',', 'and', 'many', 'other', 'business', 'indicators', '.'], ['Such', 'measures', 'are', 'essential', 'to', 'its', 'job', 'of', 'presenting', 'business', 'and', 'Government', 'with', 'the', 'facts', 'required', 'to', 'meet', 'the', 'objective', 'of', 'expanding', 'business', 'and', 'improving', 'the', 'operation', 'of', 'the', 'economy', '.'], ['Contact'], ['For', 'further', 'information', 'contact', 'Director', ',', 'Office', 'of', 'Business', 'Economics', ',', 'U.S.', 'Department', 'of', 'Commerce', ',', 'Washington', '25', ',', 'D.C.', '.']]\n"
          ],
          "name": "stdout"
        }
      ]
    },
    {
      "cell_type": "code",
      "metadata": {
        "id": "3jX5xDfS0jF4"
      },
      "source": [
        "all_stopwords = ['i', 'me', 'my', 'myself', 'we', 'our', 'ours', 'ourselves', 'you', \"you're\", \"you've\", \"you'll\", \"you'd\", 'your', 'yours', 'yourself', 'yourselves', 'he', 'him', 'his', 'himself', 'she', \"she's\", 'her', 'hers', 'herself', 'it', \"it's\", 'its', 'itself', 'they', 'them', 'their', 'theirs', 'themselves', 'what', 'which', 'who', 'whom', 'this', 'that', \"that'll\", 'these', 'those', 'am', 'is', 'are', 'was', 'were', 'be', 'been', 'being', 'have', 'has', 'had', 'having', 'do', 'does', 'did', 'doing', 'a', 'an', 'the', 'and', 'but', 'if', 'or', 'because', 'as', 'until', 'while', 'of', 'at', 'by', 'for', 'with', 'about', 'against', 'between', 'into', 'through', 'during', 'before', 'after', 'above', 'below', 'to', 'from', 'up', 'down', 'in', 'out', 'on', 'off', 'over', 'under', 'again', 'further', 'then', 'once', 'here', 'there', 'when', 'where', 'why', 'how', 'all', 'any', 'both', 'each', 'few', 'more', 'most', 'other', 'some', 'such', 'no', 'nor', 'not', 'only', 'own', 'same', 'so', 'than', 'too', 'very', 's', 't', 'can', 'will', 'just', 'don', \"don't\", 'should', \"should've\", 'now', 'd', 'll', 'm', 'o', 're', 've', 'y', 'ain', 'aren', \"aren't\", 'couldn', \"couldn't\", 'didn', \"didn't\", 'doesn', \"doesn't\", 'hadn', \"hadn't\", 'hasn', \"hasn't\", 'haven', \"haven't\", 'isn', \"isn't\", 'ma', 'mightn', \"mightn't\", 'mustn', \"mustn't\", 'needn', \"needn't\", 'shan', \"shan't\", 'shouldn', \"shouldn't\", 'wasn', \"wasn't\", 'weren', \"weren't\", 'won', \"won't\", 'wouldn', \"wouldn't\"]\n",
        "def text_process(sentence):                                                                                                                        \n",
        "    nopuncList = []\n",
        "    for i in sentence:\n",
        "        nopunc = [word for word in i if word not in string.punctuation]\n",
        "        nopunc = ''.join(nopunc)\n",
        "        nopuncList.append(nopunc.lower())\n",
        "        nopuncList = list(filter(None, nopuncList))\n",
        "    nopuncList = [word for word in nopuncList if not word in all_stopwords]\n",
        "    return nopuncList"
      ],
      "execution_count": null,
      "outputs": []
    },
    {
      "cell_type": "code",
      "metadata": {
        "id": "605E7ZbTyRo3"
      },
      "source": [
        "stemmer = PorterStemmer()\n",
        "dataset = []\n",
        "for sentence in government_sents:\n",
        "  process_data = text_process(sentence)\n",
        "  for i in range(0,len(process_data)):\n",
        "    process_data[i] = stemmer.stem(process_data[i])\n",
        "  dataset.append(process_data)"
      ],
      "execution_count": null,
      "outputs": []
    },
    {
      "cell_type": "code",
      "metadata": {
        "colab": {
          "base_uri": "https://localhost:8080/"
        },
        "id": "HGzWoyct5Q00",
        "outputId": "2d4f1a62-0a32-4a1b-d3e5-4a3f7f27e166"
      },
      "source": [
        "print(dataset[:5])"
      ],
      "execution_count": null,
      "outputs": [
        {
          "output_type": "stream",
          "text": [
            "[['offic', 'busi', 'econom', 'obe', 'us', 'depart', 'commerc', 'provid', 'basic', 'measur', 'nation', 'economi', 'current', 'analysi', 'shortrun', 'chang', 'econom', 'situat', 'busi', 'outlook'], ['develop', 'analyz', 'nation', 'incom', 'balanc', 'intern', 'payment', 'mani', 'busi', 'indic'], ['measur', 'essenti', 'job', 'present', 'busi', 'govern', 'fact', 'requir', 'meet', 'object', 'expand', 'busi', 'improv', 'oper', 'economi'], ['contact'], ['inform', 'contact', 'director', 'offic', 'busi', 'econom', 'us', 'depart', 'commerc', 'washington', '25', 'dc']]\n"
          ],
          "name": "stdout"
        }
      ]
    },
    {
      "cell_type": "code",
      "metadata": {
        "id": "i6rCrfNN0dhm"
      },
      "source": [
        "matrix = {}\n",
        "for sentence in dataset:\n",
        "  for i in range(0,len(sentence)-1):\n",
        "    key = sentence[i]+\"-\"+sentence[i+1]\n",
        "    if key in matrix:\n",
        "      matrix[key] = matrix[key] + 1\n",
        "    else:\n",
        "      matrix[key] = 0"
      ],
      "execution_count": null,
      "outputs": []
    },
    {
      "cell_type": "code",
      "metadata": {
        "id": "zWbD8F1m90aM"
      },
      "source": [
        "edgelist = []\n",
        "for k, v in matrix.items():\n",
        "  if(v > 2):\n",
        "    edge = {}\n",
        "    edge[\"source\"] = k.split(\"-\")[0]\n",
        "    edge[\"target\"] = k.split(\"-\")[1]\n",
        "    edge[\"weight\"] = v\n",
        "    edgelist.append(edge)"
      ],
      "execution_count": null,
      "outputs": []
    },
    {
      "cell_type": "code",
      "metadata": {
        "colab": {
          "base_uri": "https://localhost:8080/"
        },
        "id": "CScR8ODzCbyC",
        "outputId": "fd0eb757-8dcf-4f30-c968-a85bfb859717"
      },
      "source": [
        "edge_list = []\n",
        "for i in edgelist:\n",
        "  state = False\n",
        "  for j in edgelist:\n",
        "    if i[\"source\"] == j[\"target\"]:\n",
        "      state = True\n",
        "  if state:\n",
        "    edge_list.append(i)\n",
        "    state = False\n",
        "edge_list"
      ],
      "execution_count": null,
      "outputs": [
        {
          "output_type": "execute_result",
          "data": {
            "text/plain": [
              "[{'source': 'depart', 'target': 'commerc', 'weight': 3},\n",
              " {'source': 'director', 'target': 'offic', 'weight': 4},\n",
              " {'source': 'washington', 'target': '25', 'weight': 8},\n",
              " {'source': '25', 'target': 'dc', 'weight': 8},\n",
              " {'source': 'made', 'target': 'avail', 'weight': 4},\n",
              " {'source': 'per', 'target': 'year', 'weight': 5},\n",
              " {'source': 'busi', 'target': 'administr', 'weight': 8},\n",
              " {'source': 'busi', 'target': 'manag', 'weight': 7},\n",
              " {'source': 'develop', 'target': 'program', 'weight': 12},\n",
              " {'source': 'busi', 'target': 'concern', 'weight': 12},\n",
              " {'source': 'upon', 'target': 'request', 'weight': 3},\n",
              " {'source': 'econom', 'target': 'develop', 'weight': 7},\n",
              " {'source': 'region', 'target': 'offic', 'weight': 8},\n",
              " {'source': 'properti', 'target': 'sale', 'weight': 4},\n",
              " {'source': 'feder', 'target': 'govern', 'weight': 6},\n",
              " {'source': 'nation', 'target': 'forest', 'weight': 27},\n",
              " {'source': 'complet', 'target': 'inventori', 'weight': 3},\n",
              " {'source': 'loan', 'target': 'made', 'weight': 4},\n",
              " {'source': 'may', 'target': 'made', 'weight': 7},\n",
              " {'source': 'busi', 'target': 'loan', 'weight': 3},\n",
              " {'source': 'interest', 'target': 'rate', 'weight': 5},\n",
              " {'source': 'bank', 'target': 'cooper', 'weight': 5},\n",
              " {'source': 'set', 'target': 'forth', 'weight': 7},\n",
              " {'source': 'may', 'target': 'obtain', 'weight': 3},\n",
              " {'source': 'develop', 'target': 'countri', 'weight': 7},\n",
              " {'source': 'develop', 'target': 'assist', 'weight': 3},\n",
              " {'source': 'countri', 'target': 'develop', 'weight': 4},\n",
              " {'source': 'unit', 'target': 'state', 'weight': 135},\n",
              " {'source': 'econom', 'target': 'social', 'weight': 3},\n",
              " {'source': 'state', 'target': 'america', 'weight': 24},\n",
              " {'source': 'presid', 'target': 'kennedi', 'weight': 3},\n",
              " {'source': 'one', 'target': 'state', 'weight': 3},\n",
              " {'source': 'hous', 'target': 'repres', 'weight': 6},\n",
              " {'source': 'state', 'target': 'automobil', 'weight': 7},\n",
              " {'source': 'state', 'target': 'vehicl', 'weight': 6},\n",
              " {'source': 'motor', 'target': 'pool', 'weight': 9},\n",
              " {'source': 'per', 'target': 'mile', 'weight': 7},\n",
              " {'source': 'gener', 'target': 'public', 'weight': 3},\n",
              " {'source': 'assign', 'target': 'use', 'weight': 8},\n",
              " {'source': 'rhode', 'target': 'island', 'weight': 75},\n",
              " {'source': 'state', 'target': 'busi', 'weight': 3},\n",
              " {'source': 'state', 'target': 'provid', 'weight': 3},\n",
              " {'source': 'mile', 'target': 'per', 'weight': 3},\n",
              " {'source': 'per', 'target': 'month', 'weight': 4},\n",
              " {'source': 'motor', 'target': 'vehicl', 'weight': 3},\n",
              " {'source': 'pool', 'target': 'oper', 'weight': 3},\n",
              " {'source': 'agenc', 'target': 'establish', 'weight': 3},\n",
              " {'source': 'depart', 'target': 'state', 'weight': 8},\n",
              " {'source': 'state', 'target': 'govern', 'weight': 5},\n",
              " {'source': 'juli', 'target': '1', 'weight': 11},\n",
              " {'source': 'three', 'target': 'year', 'weight': 8},\n",
              " {'source': 'oper', 'target': 'cost', 'weight': 3},\n",
              " {'source': 'properti', 'target': 'tax', 'weight': 6},\n",
              " {'source': 'year', 'target': 'ago', 'weight': 6},\n",
              " {'source': 'assist', 'target': 'state', 'weight': 3},\n",
              " {'source': 'movabl', 'target': 'properti', 'weight': 8},\n",
              " {'source': 'properti', 'target': 'situat', 'weight': 4},\n",
              " {'source': 'decemb', 'target': '31', 'weight': 8},\n",
              " {'source': 'tax', 'target': 'purpos', 'weight': 5},\n",
              " {'source': 'state', 'target': 'fiscal', 'weight': 3},\n",
              " {'source': 'tax', 'target': 'boat', 'weight': 4},\n",
              " {'source': 'may', 'target': 'subject', 'weight': 3},\n",
              " {'source': 'industri', 'target': 'divis', 'weight': 7},\n",
              " {'source': 'domest', 'target': 'commerc', 'weight': 3},\n",
              " {'source': 'program', 'target': 'provid', 'weight': 3},\n",
              " {'source': 'fiscal', 'target': 'year', 'weight': 68},\n",
              " {'source': 'york', 'target': 'time', 'weight': 6},\n",
              " {'source': 'state', 'target': 'plan', 'weight': 9},\n",
              " {'source': 'colleg', 'target': 'univers', 'weight': 7},\n",
              " {'source': 'plan', 'target': 'divis', 'weight': 11},\n",
              " {'source': 'state', 'target': 'rhode', 'weight': 7},\n",
              " {'source': 'servic', 'target': 'area', 'weight': 4},\n",
              " {'source': 'unit', 'target': 'govern', 'weight': 3},\n",
              " {'source': 'fiscal', 'target': 'uniform', 'weight': 4},\n",
              " {'source': 'state', 'target': 'includ', 'weight': 4},\n",
              " {'source': 'june', 'target': '30', 'weight': 14},\n",
              " {'source': 'year', 'target': 'end', 'weight': 7},\n",
              " {'source': 'end', 'target': 'decemb', 'weight': 3},\n",
              " {'source': 'close', 'target': 'fiscal', 'weight': 9},\n",
              " {'source': 'year', 'target': 'septemb', 'weight': 3},\n",
              " {'source': 'septemb', 'target': '30', 'weight': 4},\n",
              " {'source': 'uniform', 'target': 'fiscal', 'weight': 10},\n",
              " {'source': 'fiscal', 'target': 'calendar', 'weight': 3},\n",
              " {'source': 'tax', 'target': 'collect', 'weight': 13},\n",
              " {'source': 'state', 'target': 'feder', 'weight': 5},\n",
              " {'source': 'year', 'target': 'calendar', 'weight': 6},\n",
              " {'source': 'adjust', 'target': 'fiscal', 'weight': 8},\n",
              " {'source': 'period', 'target': 'time', 'weight': 5},\n",
              " {'source': 'fiscal', 'target': 'tax', 'weight': 7},\n",
              " {'source': 'collect', 'target': 'calendar', 'weight': 3},\n",
              " {'source': '1', 'target': 'june', 'weight': 6},\n",
              " {'source': '30', 'target': 'fiscal', 'weight': 4},\n",
              " {'source': 'tax', 'target': 'year', 'weight': 4},\n",
              " {'source': 'collect', 'target': 'year', 'weight': 8},\n",
              " {'source': 'adjust', 'target': 'tax', 'weight': 3},\n",
              " {'source': 'john', 'target': 'nott', 'weight': 14},\n",
              " {'source': 'nott', 'target': 'jr', 'weight': 14},\n",
              " {'source': 'jr', 'target': 'governor', 'weight': 13},\n",
              " {'source': 'governor', 'target': 'state', 'weight': 6},\n",
              " {'source': 'island', 'target': 'provid', 'weight': 6},\n",
              " {'source': 'provid', 'target': 'plantat', 'weight': 6},\n",
              " {'source': 'plantat', 'target': 'proclaim', 'weight': 6},\n",
              " {'source': 'whereof', 'target': 'hereunto', 'weight': 6},\n",
              " {'source': 'hereunto', 'target': 'set', 'weight': 6},\n",
              " {'source': 'set', 'target': 'hand', 'weight': 6},\n",
              " {'source': 'hand', 'target': 'caus', 'weight': 6},\n",
              " {'source': 'caus', 'target': 'seal', 'weight': 6},\n",
              " {'source': 'seal', 'target': 'state', 'weight': 6},\n",
              " {'source': 'state', 'target': 'affix', 'weight': 6},\n",
              " {'source': 'year', 'target': 'lord', 'weight': 6},\n",
              " {'source': 'lord', 'target': 'one', 'weight': 6},\n",
              " {'source': 'one', 'target': 'thousand', 'weight': 7},\n",
              " {'source': 'thousand', 'target': 'nine', 'weight': 6},\n",
              " {'source': 'nine', 'target': 'hundr', 'weight': 6},\n",
              " {'source': 'hundr', 'target': 'sixtyon', 'weight': 6},\n",
              " {'source': 'sixtyon', 'target': 'independ', 'weight': 6},\n",
              " {'source': 'independ', 'target': 'one', 'weight': 6},\n",
              " {'source': 'one', 'target': 'hundr', 'weight': 6},\n",
              " {'source': 'forc', 'target': 'day', 'weight': 3},\n",
              " {'source': 'year', 'target': '1961', 'weight': 7},\n",
              " {'source': 'secur', 'target': 'act', 'weight': 4},\n",
              " {'source': 'hundr', 'target': 'eightysixth', 'weight': 4},\n",
              " {'source': 'unit', 'target': 'nation', 'weight': 15},\n",
              " {'source': 'time', 'target': 'time', 'weight': 5},\n",
              " {'source': 'repres', 'target': 'unit', 'weight': 5},\n",
              " {'source': 'district', 'target': 'columbia', 'weight': 4},\n",
              " {'source': 'puerto', 'target': 'rico', 'weight': 17},\n",
              " {'source': 'purpos', 'target': 'act', 'weight': 5},\n",
              " {'source': 'secretari', 'target': 'interior', 'weight': 6},\n",
              " {'source': 'subsect', 'target': 'b', 'weight': 4},\n",
              " {'source': 'nation', 'target': 'intern', 'weight': 4},\n",
              " {'source': 'depart', 'target': 'agenc', 'weight': 4},\n",
              " {'source': 'secretari', 'target': 'shall', 'weight': 3},\n",
              " {'source': 'depart', 'target': 'defens', 'weight': 6},\n",
              " {'source': 'shall', 'target': 'constru', 'weight': 3},\n",
              " {'source': 'may', 'target': 'necessari', 'weight': 5},\n",
              " {'source': 'year', 'target': '1962', 'weight': 3},\n",
              " {'source': 'act', 'target': 'provid', 'weight': 3},\n",
              " {'source': 'secretari', 'target': 'state', 'weight': 7},\n",
              " {'source': 'section', 'target': '4', 'weight': 3},\n",
              " {'source': 'year', 'target': 'date', 'weight': 3},\n",
              " {'source': 'nonmetal', 'target': 'mine', 'weight': 3},\n",
              " {'source': 'coal', 'target': 'lignit', 'weight': 3},\n",
              " {'source': 'lignit', 'target': 'mine', 'weight': 3},\n",
              " {'source': 'domest', 'target': 'produc', 'weight': 4},\n",
              " {'source': 'payment', 'target': 'shall', 'weight': 13},\n",
              " {'source': 'shall', 'target': 'made', 'weight': 12},\n",
              " {'source': 'cent', 'target': 'per', 'weight': 3},\n",
              " {'source': 'per', 'target': 'pound', 'weight': 3},\n",
              " {'source': 'per', 'target': 'centum', 'weight': 5},\n",
              " {'source': 'amount', 'target': 'payment', 'weight': 4},\n",
              " {'source': 'payment', 'target': 'may', 'weight': 5},\n",
              " {'source': 'made', 'target': 'pursuant', 'weight': 4},\n",
              " {'source': 'made', 'target': 'calendar', 'weight': 3},\n",
              " {'source': 'calendar', 'target': 'year', 'weight': 12},\n",
              " {'source': 'shall', 'target': 'exceed', 'weight': 4},\n",
              " {'source': 'sale', 'target': 'made', 'weight': 4},\n",
              " {'source': 'year', 'target': '1959', 'weight': 4},\n",
              " {'source': 'patholog', 'target': 'patholog', 'weight': 3},\n",
              " {'source': 'diseas', 'target': 'laboratori', 'weight': 3},\n",
              " {'source': 'laboratori', 'target': 'anim', 'weight': 3},\n",
              " {'source': '1', 'target': 'juli', 'weight': 3},\n",
              " {'source': 'medic', 'target': 'illustr', 'weight': 7},\n",
              " {'source': 'illustr', 'target': 'servic', 'weight': 6},\n",
              " {'source': 'medic', 'target': 'servic', 'weight': 3},\n",
              " {'source': 'govern', 'target': 'india', 'weight': 17},\n",
              " {'source': 'medic', 'target': 'museum', 'weight': 3},\n",
              " {'source': 'forc', 'target': 'medic', 'weight': 4},\n",
              " {'source': 'may', 'target': '1960', 'weight': 3},\n",
              " {'source': '1960', 'target': 'issu', 'weight': 3},\n",
              " {'source': 'award', 'target': 'made', 'weight': 5},\n",
              " {'source': 'servic', 'target': 'render', 'weight': 4},\n",
              " {'source': 'amount', 'target': 'paid', 'weight': 3},\n",
              " {'source': 'pursuant', 'target': 'award', 'weight': 3},\n",
              " {'source': 'secretari', 'target': 'treasuri', 'weight': 12},\n",
              " {'source': 'offic', 'target': 'employe', 'weight': 4},\n",
              " {'source': 'depart', 'target': 'justic', 'weight': 9},\n",
              " {'source': 'govern', 'target': 'unit', 'weight': 24},\n",
              " {'source': 'state', 'target': 'shall', 'weight': 3},\n",
              " {'source': 'treasuri', 'target': 'credit', 'weight': 3},\n",
              " {'source': 'pursuant', 'target': 'subsect', 'weight': 5},\n",
              " {'source': 'claim', 'target': 'agreement', 'weight': 3},\n",
              " {'source': 'agreement', 'target': '1948', 'weight': 3},\n",
              " {'source': 'payment', 'target': 'made', 'weight': 3},\n",
              " {'source': 'claim', 'target': 'fund', 'weight': 3},\n",
              " {'source': 'section', 'target': '7', 'weight': 3},\n",
              " {'source': '1', 'target': 'c', 'weight': 6},\n",
              " {'source': 'york', 'target': 'central', 'weight': 11},\n",
              " {'source': 'c', 'target': 'b', 'weight': 3},\n",
              " {'source': 'public', 'target': 'interest', 'weight': 4},\n",
              " {'source': 'allot', 'target': 'state', 'weight': 6},\n",
              " {'source': 'per', 'target': 'capita', 'weight': 13},\n",
              " {'source': 'capita', 'target': 'incom', 'weight': 13},\n",
              " {'source': 'comput', 'target': 'allot', 'weight': 3},\n",
              " {'source': 'state', 'target': 'district', 'weight': 3},\n",
              " {'source': 'island', 'target': 'guam', 'weight': 8},\n",
              " {'source': 'guam', 'target': 'puerto', 'weight': 8},\n",
              " {'source': 'rico', 'target': 'prior', 'weight': 4},\n",
              " {'source': 'prior', 'target': '1962', 'weight': 5},\n",
              " {'source': '1962', 'target': 'alaska', 'weight': 5},\n",
              " {'source': 'alaska', 'target': 'hawaii', 'weight': 9},\n",
              " {'source': 'state', 'target': 'except', 'weight': 3},\n",
              " {'source': 'averag', 'target': 'per', 'weight': 9},\n",
              " {'source': 'result', 'target': 'obtain', 'weight': 12},\n",
              " {'source': 'obtain', 'target': 'item', 'weight': 11},\n",
              " {'source': 'particular', 'target': 'state', 'weight': 8},\n",
              " {'source': 'item', 'target': '1', 'weight': 3},\n",
              " {'source': 'allot', 'target': 'percentag', 'weight': 5},\n",
              " {'source': 'state', 'target': 'unadjust', 'weight': 6},\n",
              " {'source': 'unadjust', 'target': 'allot', 'weight': 8},\n",
              " {'source': 'feder', 'target': 'share', 'weight': 10},\n",
              " {'source': 'amount', 'target': 'use', 'weight': 3},\n",
              " {'source': 'gener', 'target': 'motor', 'weight': 39},\n",
              " {'source': 'share', 'target': 'gener', 'weight': 3},\n",
              " {'source': 'pont', 'target': 'gener', 'weight': 5},\n",
              " {'source': 'district', 'target': 'court', 'weight': 5},\n",
              " {'source': 'lessen', 'target': 'competit', 'weight': 3},\n",
              " {'source': 'motor', 'target': 'share', 'weight': 3},\n",
              " {'source': 'motor', 'target': 'stock', 'weight': 8},\n",
              " {'source': 'christiana', 'target': 'delawar', 'weight': 7},\n",
              " {'source': 'pont', 'target': 'christiana', 'weight': 3},\n",
              " {'source': 'intern', 'target': 'revenu', 'weight': 7},\n",
              " {'source': 'incom', 'target': 'tax', 'weight': 6},\n",
              " {'source': 'due', 'target': 'process', 'weight': 5},\n",
              " {'source': 'offic', 'target': 'depart', 'weight': 3},\n",
              " {'source': 'offic', 'target': 'report', 'weight': 7},\n",
              " {'source': 'feder', 'target': 'bureau', 'weight': 4},\n",
              " {'source': 'bureau', 'target': 'investig', 'weight': 4},\n",
              " {'source': 'depart', 'target': 'recommend', 'weight': 5},\n",
              " {'source': 'concern', 'target': 'depart', 'weight': 3},\n",
              " {'source': 'polici', 'target': 'offic', 'weight': 8},\n",
              " {'source': 'place', 'target': 'busi', 'weight': 3},\n",
              " {'source': 'develop', 'target': 'project', 'weight': 5},\n",
              " {'source': 'develop', 'target': 'nation', 'weight': 3},\n",
              " {'source': 'habitat', 'target': 'manag', 'weight': 3},\n",
              " {'source': 'forest', 'target': 'system', 'weight': 4},\n",
              " {'source': 'road', 'target': 'trail', 'weight': 8},\n",
              " {'source': 'forest', 'target': 'highway', 'weight': 4},\n",
              " {'source': 'highway', 'target': 'system', 'weight': 3},\n",
              " {'source': 'forest', 'target': 'develop', 'weight': 4},\n",
              " {'source': 'develop', 'target': 'road', 'weight': 4},\n",
              " {'source': 'use', 'target': 'nation', 'weight': 3},\n",
              " {'source': 'articl', 'target': '2', 'weight': 9},\n",
              " {'source': 'pursuant', 'target': 'agreement', 'weight': 3},\n",
              " {'source': 'section', 'target': '104', 'weight': 10},\n",
              " {'source': '104', 'target': 'act', 'weight': 4},\n",
              " {'source': '2', 'target': 'agreement', 'weight': 3},\n",
              " {'source': 'bank', 'target': 'washington', 'weight': 6},\n",
              " {'source': '104', 'target': 'e', 'weight': 4},\n",
              " {'source': 'depart', 'target': 'econom', 'weight': 9},\n",
              " {'source': 'econom', 'target': 'affair', 'weight': 9},\n",
              " {'source': '1', 'target': 'b', 'weight': 8},\n",
              " {'source': 'b', 'target': '1', 'weight': 5},\n",
              " {'source': 'c', 'target': 'articl', 'weight': 3},\n",
              " {'source': 'station', 'target': 'oper', 'weight': 6},\n",
              " {'source': 'servic', 'target': 'interfer', 'weight': 3},\n",
              " {'source': 'number', 'target': 'station', 'weight': 4},\n",
              " {'source': '2', 'target': 'hour', 'weight': 4},\n",
              " {'source': 'hour', 'target': 'sunris', 'weight': 3},\n",
              " {'source': 'class', 'target': '2', 'weight': 7},\n",
              " {'source': '2', 'target': 'station', 'weight': 5},\n",
              " {'source': 'class', 'target': '1', 'weight': 11},\n",
              " {'source': '1', 'target': 'station', 'weight': 7},\n",
              " {'source': 'station', 'target': 'permit', 'weight': 3},\n",
              " {'source': 'permit', 'target': 'oper', 'weight': 3},\n",
              " {'source': 'may', 'target': 'claim', 'weight': 3},\n",
              " {'source': 'tax', 'target': 'return', 'weight': 3},\n",
              " {'source': 'month', 'target': 'close', 'weight': 3},\n",
              " {'source': 'due', 'target': 'date', 'weight': 6},\n",
              " {'source': 'file', 'target': 'return', 'weight': 6},\n",
              " {'source': 'tax', 'target': 'payment', 'weight': 3},\n",
              " {'source': '15', 'target': '1962', 'weight': 5},\n",
              " {'source': 'time', 'target': 'file', 'weight': 6},\n",
              " {'source': 'district', 'target': 'director', 'weight': 5},\n",
              " {'source': 'form', 'target': '1040', 'weight': 7},\n",
              " {'source': 'file', 'target': 'form', 'weight': 7},\n",
              " {'source': 'revenu', 'target': 'district', 'weight': 3},\n",
              " {'source': 'form', 'target': '1040a', 'weight': 3},\n",
              " {'source': 'adjust', 'target': 'gross', 'weight': 9},\n",
              " {'source': 'gross', 'target': 'incom', 'weight': 14},\n",
              " {'source': 'deduct', 'target': 'allow', 'weight': 3},\n",
              " {'source': 'may', 'target': 'deduct', 'weight': 3},\n",
              " {'source': 'member', 'target': 'advisori', 'weight': 3},\n",
              " {'source': 'advisori', 'target': 'board', 'weight': 9},\n",
              " {'source': 'board', 'target': 'truste', 'weight': 4},\n",
              " {'source': 'secretari', 'target': 'gener', 'weight': 3},\n",
              " {'source': 'brown', 'target': 'sharp', 'weight': 23},\n",
              " {'source': 'r', 'target': 'brown', 'weight': 5},\n",
              " {'source': 'loom', 'target': 'winder', 'weight': 3},\n",
              " {'source': 'student', 'target': 'associ', 'weight': 3},\n",
              " {'source': 'public', 'target': 'board', 'weight': 4},\n",
              " {'source': 'electron', 'target': 'industri', 'weight': 3},\n",
              " {'source': 'electron', 'target': 'equip', 'weight': 3}]"
            ]
          },
          "metadata": {
            "tags": []
          },
          "execution_count": 13
        }
      ]
    },
    {
      "cell_type": "code",
      "metadata": {
        "colab": {
          "base_uri": "https://localhost:8080/",
          "height": 419
        },
        "id": "dVzXUjh9_3dz",
        "outputId": "248b1d33-7e73-4e2b-c0d4-44dbee2dcc0c"
      },
      "source": [
        "pdlist = pd.DataFrame(pd.DataFrame(edge_list).values,columns = [\"source\",\"target\",\"weight\"])\n",
        "pdlist"
      ],
      "execution_count": null,
      "outputs": [
        {
          "output_type": "execute_result",
          "data": {
            "text/html": [
              "<div>\n",
              "<style scoped>\n",
              "    .dataframe tbody tr th:only-of-type {\n",
              "        vertical-align: middle;\n",
              "    }\n",
              "\n",
              "    .dataframe tbody tr th {\n",
              "        vertical-align: top;\n",
              "    }\n",
              "\n",
              "    .dataframe thead th {\n",
              "        text-align: right;\n",
              "    }\n",
              "</style>\n",
              "<table border=\"1\" class=\"dataframe\">\n",
              "  <thead>\n",
              "    <tr style=\"text-align: right;\">\n",
              "      <th></th>\n",
              "      <th>source</th>\n",
              "      <th>target</th>\n",
              "      <th>weight</th>\n",
              "    </tr>\n",
              "  </thead>\n",
              "  <tbody>\n",
              "    <tr>\n",
              "      <th>0</th>\n",
              "      <td>depart</td>\n",
              "      <td>commerc</td>\n",
              "      <td>3</td>\n",
              "    </tr>\n",
              "    <tr>\n",
              "      <th>1</th>\n",
              "      <td>director</td>\n",
              "      <td>offic</td>\n",
              "      <td>4</td>\n",
              "    </tr>\n",
              "    <tr>\n",
              "      <th>2</th>\n",
              "      <td>washington</td>\n",
              "      <td>25</td>\n",
              "      <td>8</td>\n",
              "    </tr>\n",
              "    <tr>\n",
              "      <th>3</th>\n",
              "      <td>25</td>\n",
              "      <td>dc</td>\n",
              "      <td>8</td>\n",
              "    </tr>\n",
              "    <tr>\n",
              "      <th>4</th>\n",
              "      <td>made</td>\n",
              "      <td>avail</td>\n",
              "      <td>4</td>\n",
              "    </tr>\n",
              "    <tr>\n",
              "      <th>...</th>\n",
              "      <td>...</td>\n",
              "      <td>...</td>\n",
              "      <td>...</td>\n",
              "    </tr>\n",
              "    <tr>\n",
              "      <th>288</th>\n",
              "      <td>loom</td>\n",
              "      <td>winder</td>\n",
              "      <td>3</td>\n",
              "    </tr>\n",
              "    <tr>\n",
              "      <th>289</th>\n",
              "      <td>student</td>\n",
              "      <td>associ</td>\n",
              "      <td>3</td>\n",
              "    </tr>\n",
              "    <tr>\n",
              "      <th>290</th>\n",
              "      <td>public</td>\n",
              "      <td>board</td>\n",
              "      <td>4</td>\n",
              "    </tr>\n",
              "    <tr>\n",
              "      <th>291</th>\n",
              "      <td>electron</td>\n",
              "      <td>industri</td>\n",
              "      <td>3</td>\n",
              "    </tr>\n",
              "    <tr>\n",
              "      <th>292</th>\n",
              "      <td>electron</td>\n",
              "      <td>equip</td>\n",
              "      <td>3</td>\n",
              "    </tr>\n",
              "  </tbody>\n",
              "</table>\n",
              "<p>293 rows × 3 columns</p>\n",
              "</div>"
            ],
            "text/plain": [
              "         source    target weight\n",
              "0        depart   commerc      3\n",
              "1      director     offic      4\n",
              "2    washington        25      8\n",
              "3            25        dc      8\n",
              "4          made     avail      4\n",
              "..          ...       ...    ...\n",
              "288        loom    winder      3\n",
              "289     student    associ      3\n",
              "290      public     board      4\n",
              "291    electron  industri      3\n",
              "292    electron     equip      3\n",
              "\n",
              "[293 rows x 3 columns]"
            ]
          },
          "metadata": {
            "tags": []
          },
          "execution_count": 14
        }
      ]
    },
    {
      "cell_type": "code",
      "metadata": {
        "id": "XZzxFAFvGSAy"
      },
      "source": [
        "pdlist.to_csv(r'edgelist.csv',index=False)"
      ],
      "execution_count": null,
      "outputs": []
    },
    {
      "cell_type": "code",
      "metadata": {
        "id": "fmhcUv-BMIzF"
      },
      "source": [
        "ids = []\n",
        "for r in edge_list:\n",
        "  if r['source'] not in ids:\n",
        "    ids.append(r['source'])\n",
        "  if r['target'] not in ids:\n",
        "    ids.append(r['target'])"
      ],
      "execution_count": null,
      "outputs": []
    },
    {
      "cell_type": "code",
      "metadata": {
        "id": "KdK-RgVtISvN"
      },
      "source": [
        "edge_list = pd.DataFrame(columns = ({\"id\"}))\n",
        "edge_list[\"id\"] = ids\n",
        "edge_list.to_csv(r'nodelist.csv',index=False)"
      ],
      "execution_count": null,
      "outputs": []
    }
  ]
}