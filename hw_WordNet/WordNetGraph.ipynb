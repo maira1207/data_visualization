{
  "nbformat": 4,
  "nbformat_minor": 0,
  "metadata": {
    "colab": {
      "name": "WordNetGraph.ipynb",
      "provenance": []
    },
    "kernelspec": {
      "name": "python3",
      "display_name": "Python 3"
    }
  },
  "cells": [
    {
      "cell_type": "code",
      "metadata": {
        "colab": {
          "base_uri": "https://localhost:8080/"
        },
        "id": "AmSrfu1MEun9",
        "outputId": "a20866eb-caa1-4168-e6d4-6bc54df90273"
      },
      "source": [
        "import nltk \n",
        "nltk.download('wordnet')\n",
        "from nltk.corpus import wordnet as wn"
      ],
      "execution_count": 44,
      "outputs": [
        {
          "output_type": "stream",
          "text": [
            "[nltk_data] Downloading package wordnet to /root/nltk_data...\n",
            "[nltk_data]   Package wordnet is already up-to-date!\n"
          ],
          "name": "stdout"
        }
      ]
    },
    {
      "cell_type": "code",
      "metadata": {
        "id": "ZMb21LvrT7wj"
      },
      "source": [
        "def closure_graph(synset,fn):\n",
        "    seen = set()\n",
        "    node = set()\n",
        "    edge = list()\n",
        "    synsets = []\n",
        "    def recurse(s):\n",
        "        if not s in seen:\n",
        "            seen.add(s)\n",
        "            print(s.lemma_names('eng')[0])\n",
        "            for i in range(len(s.lemma_names('eng'))):\n",
        "                node.add(s.lemma_names('eng')[i])\n",
        "            synsets.append(s.lemma_names('eng'))\n",
        "            for s1 in fn(s):\n",
        "                node.add(s1.lemma_names('eng')[0])\n",
        "                edge.append({\"source\":s.lemma_names('eng')[0],\"target\":s1.lemma_names('eng')[0], \"type\":\"hyper\"})\n",
        "                recurse(s1)\n",
        "    recurse(synset)\n",
        "    return (list(node),edge,synsets)"
      ],
      "execution_count": 51,
      "outputs": []
    },
    {
      "cell_type": "code",
      "metadata": {
        "colab": {
          "base_uri": "https://localhost:8080/"
        },
        "id": "EL64Kep_h0L4",
        "outputId": "36660fb4-7be4-47ea-b7fd-e2574ca57d55"
      },
      "source": [
        "graph"
      ],
      "execution_count": 55,
      "outputs": [
        {
          "output_type": "execute_result",
          "data": {
            "text/plain": [
              "(['dog',\n",
              "  'vertebrate',\n",
              "  'whole',\n",
              "  'object',\n",
              "  'mammalian',\n",
              "  'eutherian',\n",
              "  'placental_mammal',\n",
              "  'Canis_familiaris',\n",
              "  'canine',\n",
              "  'fauna',\n",
              "  'domestic_animal',\n",
              "  'placental',\n",
              "  'chordate',\n",
              "  'being',\n",
              "  'living_thing',\n",
              "  'unit',\n",
              "  'domestic_dog',\n",
              "  'animal',\n",
              "  'eutherian_mammal',\n",
              "  'mammal',\n",
              "  'craniate',\n",
              "  'entity',\n",
              "  'organism',\n",
              "  'brute',\n",
              "  'animate_thing',\n",
              "  'physical_entity',\n",
              "  'domesticated_animal',\n",
              "  'creature',\n",
              "  'canid',\n",
              "  'beast',\n",
              "  'physical_object',\n",
              "  'animate_being',\n",
              "  'carnivore'],\n",
              " [{'source': 'dog', 'target': 'canine', 'type': 'hyper'},\n",
              "  {'source': 'canine', 'target': 'carnivore', 'type': 'hyper'},\n",
              "  {'source': 'carnivore', 'target': 'placental', 'type': 'hyper'},\n",
              "  {'source': 'placental', 'target': 'mammal', 'type': 'hyper'},\n",
              "  {'source': 'mammal', 'target': 'vertebrate', 'type': 'hyper'},\n",
              "  {'source': 'vertebrate', 'target': 'chordate', 'type': 'hyper'},\n",
              "  {'source': 'chordate', 'target': 'animal', 'type': 'hyper'},\n",
              "  {'source': 'animal', 'target': 'organism', 'type': 'hyper'},\n",
              "  {'source': 'organism', 'target': 'living_thing', 'type': 'hyper'},\n",
              "  {'source': 'living_thing', 'target': 'whole', 'type': 'hyper'},\n",
              "  {'source': 'whole', 'target': 'object', 'type': 'hyper'},\n",
              "  {'source': 'object', 'target': 'physical_entity', 'type': 'hyper'},\n",
              "  {'source': 'physical_entity', 'target': 'entity', 'type': 'hyper'},\n",
              "  {'source': 'dog', 'target': 'domestic_animal', 'type': 'hyper'},\n",
              "  {'source': 'domestic_animal', 'target': 'animal', 'type': 'hyper'}],\n",
              " [['dog', 'domestic_dog', 'Canis_familiaris'],\n",
              "  ['canine', 'canid'],\n",
              "  ['carnivore'],\n",
              "  ['placental', 'placental_mammal', 'eutherian', 'eutherian_mammal'],\n",
              "  ['mammal', 'mammalian'],\n",
              "  ['vertebrate', 'craniate'],\n",
              "  ['chordate'],\n",
              "  ['animal', 'animate_being', 'beast', 'brute', 'creature', 'fauna'],\n",
              "  ['organism', 'being'],\n",
              "  ['living_thing', 'animate_thing'],\n",
              "  ['whole', 'unit'],\n",
              "  ['object', 'physical_object'],\n",
              "  ['physical_entity'],\n",
              "  ['entity'],\n",
              "  ['domestic_animal', 'domesticated_animal']])"
            ]
          },
          "metadata": {
            "tags": []
          },
          "execution_count": 55
        }
      ]
    },
    {
      "cell_type": "code",
      "metadata": {
        "colab": {
          "base_uri": "https://localhost:8080/"
        },
        "id": "bvUMvpu7W_f9",
        "outputId": "007ef4fe-3abc-4a36-ff59-ed336760a3cc"
      },
      "source": [
        "import json\n",
        "dog = wn.synset('dog.n.01')\n",
        "graph = closure_graph(dog,lambda s: s.hypernyms())\n",
        "\n",
        "nodes = []\n",
        "links = []\n",
        "\n",
        "for i in range(len(graph[2])):\n",
        "   for j in range(len(graph[2][i])):\n",
        "     nodes.append({\"id\": graph[2][i][j],\"group\":i+1})\n",
        "     if j > 0:\n",
        "      links.append({\"source\": graph[2][i][j],\"target\": graph[2][i][0] ,\"value\": 1})\n",
        "for link in graph[1]:\n",
        "      links.append({\"source\": link['target'],\"target\": link['source'],\"value\": len(graph[2][i])})"
      ],
      "execution_count": 56,
      "outputs": [
        {
          "output_type": "stream",
          "text": [
            "dog\n",
            "canine\n",
            "carnivore\n",
            "placental\n",
            "mammal\n",
            "vertebrate\n",
            "chordate\n",
            "animal\n",
            "organism\n",
            "living_thing\n",
            "whole\n",
            "object\n",
            "physical_entity\n",
            "entity\n",
            "domestic_animal\n"
          ],
          "name": "stdout"
        }
      ]
    },
    {
      "cell_type": "code",
      "metadata": {
        "id": "6vFNjV8AWfoz"
      },
      "source": [
        "with open(\"wordnet.json\",\"w\") as fh:\n",
        "    json.dump({\"nodes\":nodes,\"links\":links},fh)"
      ],
      "execution_count": 48,
      "outputs": []
    }
  ]
}